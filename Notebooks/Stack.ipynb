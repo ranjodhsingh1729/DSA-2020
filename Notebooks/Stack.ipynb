{
 "cells": [
  {
   "cell_type": "code",
   "execution_count": 1,
   "metadata": {},
   "outputs": [],
   "source": [
    "\"\"\"\n",
    "Stack Abstract Data Type,\n",
    "Implementation in Python.\n",
    "\"\"\"\n",
    "\n",
    "# Class Stack.\n",
    "class Stack:\n",
    "    \"\"\"\n",
    "    Class Representing A Stack Object.\n",
    "\n",
    "    Functions Supported:- is_empty, push, pop, peek, size.\n",
    "    \"\"\"\n",
    "    # Constructor\n",
    "    def __init__(self):\n",
    "        self._items = []\n",
    "    \n",
    "    # Returns True/False Wheather The Stack is Empty?\n",
    "    def is_empty(self):\n",
    "        return self._items == []\n",
    "    \n",
    "    # Return The Size of The Stack.\n",
    "    def size(self):\n",
    "        return len(self._items)\n",
    "    \n",
    "    # Adds An Item On Top of The Stack.\n",
    "    def push(self, item):\n",
    "        self._items.append(item)\n",
    "    \n",
    "    # Removes An Item From Top of The Stack.\n",
    "    def pop(self):\n",
    "        return self._items.pop()\n",
    "    \n",
    "    # Returns The Item Currrenty On Top of The Stack.\n",
    "    def peek(self):\n",
    "        return self._items[-1]\n",
    "    \n",
    "    # __str__ Representation for Printing\n",
    "    def __str__(self):\n",
    "        return str(self._items)\n"
   ]
  },
  {
   "cell_type": "code",
   "execution_count": null,
   "metadata": {},
   "outputs": [],
   "source": []
  }
 ],
 "metadata": {
  "kernelspec": {
   "display_name": "Python 3",
   "language": "python",
   "name": "python3"
  },
  "language_info": {
   "codemirror_mode": {
    "name": "ipython",
    "version": 3
   },
   "file_extension": ".py",
   "mimetype": "text/x-python",
   "name": "python",
   "nbconvert_exporter": "python",
   "pygments_lexer": "ipython3",
   "version": "3.8.2"
  }
 },
 "nbformat": 4,
 "nbformat_minor": 4
}
