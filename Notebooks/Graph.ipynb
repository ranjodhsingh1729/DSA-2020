{
 "cells": [
  {
   "cell_type": "code",
   "execution_count": 1,
   "metadata": {},
   "outputs": [],
   "source": [
    "import networkx as nx\n",
    "from queue import Queue\n",
    "\n",
    "\"\"\"\n",
    "Graph Abstract Data Type,\n",
    "Implementation in Python.\n",
    "\"\"\"\n",
    "\n",
    "class Graph:\n",
    "    def __init__(self):\n",
    "        self.graph = {}\n",
    "    \n",
    "    \n",
    "    def visualize(self):\n",
    "        graph = nx.DiGraph()\n",
    "        \n",
    "        for node in self.graph:\n",
    "            for adj in self.graph[node]:\n",
    "                graph.add_edge(node, adj)\n",
    "        \n",
    "        nx.draw(graph, with_labels=True)\n",
    "    \n",
    "    \n",
    "    def insert_node(self, node):\n",
    "        self.graph[node] = []\n",
    "    \n",
    "    \n",
    "    def insert_edge(self, src, dest):\n",
    "        if src in self.graph:\n",
    "            src = self.graph[src]\n",
    "            src.append(dest)\n",
    "        else:\n",
    "            pass\n",
    "    \n",
    "    \n",
    "    def remove_node(self, node):\n",
    "        if node in self.graph:\n",
    "            self.graph.pop(node)\n",
    "        else:\n",
    "            raise ValueError(\"Node not in Graph\")\n",
    "    \n",
    "    \n",
    "    def remove_edge(self, src, dest):\n",
    "        if src in self.graph:\n",
    "            src = self.graph[src]\n",
    "            if dest in src:\n",
    "                src.remove(dest)\n",
    "            else:\n",
    "                raise ValueError(\"dest not in src\")\n",
    "        else:\n",
    "            raise ValueError(\"Src not in Graph\")\n",
    "    \n",
    "    \n",
    "    def traverse(self, start_node, hook):\n",
    "        visited = []\n",
    "        remains = Queue(0)\n",
    "        \n",
    "        remains.put(start_node)\n",
    "        \n",
    "        while not remains.empty():\n",
    "            current_node = remains.get()\n",
    "            \n",
    "            if current_node in visited:\n",
    "                continue\n",
    "\n",
    "            hook(current_node)\n",
    "            visited.append(current_node)\n",
    "            \n",
    "            next_nodes = self.graph[current_node]\n",
    "            \n",
    "            for node in next_nodes:\n",
    "                remains.put(node)\n"
   ]
  },
  {
   "cell_type": "code",
   "execution_count": 2,
   "metadata": {},
   "outputs": [],
   "source": [
    "graph = Graph()\n",
    "graph.insert_node(\"a\")\n",
    "graph.insert_node(\"b\")\n",
    "graph.insert_node(\"c\")\n",
    "graph.insert_node(\"d\")\n",
    "graph.insert_node(\"e\")\n",
    "graph.insert_node(\"f\")\n",
    "graph.insert_node(\"g\")\n",
    "graph.insert_node(\"h\")\n",
    "\n",
    "graph.insert_edge(\"a\", \"b\")\n",
    "graph.insert_edge(\"b\", \"c\")\n",
    "graph.insert_edge(\"c\", \"d\")\n",
    "graph.insert_edge(\"d\", \"e\")\n",
    "graph.insert_edge(\"e\", \"f\")\n",
    "graph.insert_edge(\"f\", \"g\")\n",
    "graph.insert_edge(\"g\", \"h\")\n",
    "graph.insert_edge(\"h\", \"a\")\n",
    "\n",
    "graph.insert_edge(\"a\", \"c\")\n",
    "graph.insert_edge(\"c\", \"e\")\n",
    "graph.insert_edge(\"e\", \"g\")\n",
    "graph.insert_edge(\"g\", \"a\")\n"
   ]
  },
  {
   "cell_type": "code",
   "execution_count": 10,
   "metadata": {},
   "outputs": [
    {
     "data": {
      "image/png": "[encoded data removed]",
      "text/plain": [
       "<Figure size 432x288 with 1 Axes>"
      ]
     },
     "metadata": {},
     "output_type": "display_data"
    }
   ],
   "source": [
    "graph.visualize()"
   ]
  },
  {
   "cell_type": "code",
   "execution_count": 12,
   "metadata": {},
   "outputs": [
    {
     "name": "stdout",
     "output_type": "stream",
     "text": [
      "a\n",
      "b\n",
      "c\n",
      "d\n",
      "e\n",
      "f\n",
      "g\n",
      "h\n"
     ]
    }
   ],
   "source": [
    "graph.traverse(\"a\", print)"
   ]
  },
  {
   "cell_type": "code",
   "execution_count": null,
   "metadata": {},
   "outputs": [],
   "source": []
  }
 ],
 "metadata": {
  "kernelspec": {
   "display_name": "Python 3",
   "language": "python",
   "name": "python3"
  },
  "language_info": {
   "codemirror_mode": {
    "name": "ipython",
    "version": 3
   },
   "file_extension": ".py",
   "mimetype": "text/x-python",
   "name": "python",
   "nbconvert_exporter": "python",
   "pygments_lexer": "ipython3",
   "version": "3.8.2"
  }
 },
 "nbformat": 4,
 "nbformat_minor": 4
}
