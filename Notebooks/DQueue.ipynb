{
 "cells": [
  {
   "cell_type": "code",
   "execution_count": 1,
   "metadata": {},
   "outputs": [],
   "source": [
    "from ..Structures.LinkedList import LinkedList\n",
    "\n",
    "\"\"\"\n",
    "The DQueue Abstract Data Type,\n",
    "Implementation in Python.\n",
    "\"\"\"\n",
    "\n",
    "class DQueue:\n",
    "    def __init__(self, maxsize):\n",
    "        self.maxsize = maxsize\n",
    "        self._items = list()\n",
    "\n",
    "    def is_empty(self):\n",
    "        return self.size() == 0\n",
    "\n",
    "    def size(self):\n",
    "        return len(self._items)\n",
    "\n",
    "    def push_front(self, item):\n",
    "        if self.size() < self.maxsize:\n",
    "            self._items.insert(0, item)\n",
    "        else:\n",
    "            raise ValueError(\"Queue Size Limit Reached!\")\n",
    "\n",
    "    def push_rear(self, item):\n",
    "        if self.size() < self.maxsize:\n",
    "            self._items.append(item)\n",
    "        else:\n",
    "            raise ValueError(\"Queue Size Limit Reached!\")\n",
    "\n",
    "    def pop_front(self):\n",
    "        if self.size():\n",
    "            return self._items.pop(0)\n",
    "        else:\n",
    "            raise ValueError(\"Pop from empty List!\")\n",
    "    \n",
    "    def pop_rear(self):\n",
    "        if self.size():\n",
    "            return self._items.pop()\n",
    "        else:\n",
    "            raise ValueError(\"Pop from empty List!\")\n",
    "\n",
    "    def __str__(self):\n",
    "        return str(self._items)\n"
   ]
  },
  {
   "cell_type": "code",
   "execution_count": null,
   "metadata": {},
   "outputs": [],
   "source": []
  }
 ],
 "metadata": {
  "kernelspec": {
   "display_name": "Python 3",
   "language": "python",
   "name": "python3"
  },
  "language_info": {
   "codemirror_mode": {
    "name": "ipython",
    "version": 3
   },
   "file_extension": ".py",
   "mimetype": "text/x-python",
   "name": "python",
   "nbconvert_exporter": "python",
   "pygments_lexer": "ipython3",
   "version": "3.8.2"
  }
 },
 "nbformat": 4,
 "nbformat_minor": 4
}
